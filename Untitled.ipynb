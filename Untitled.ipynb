{
 "cells": [
  {
   "cell_type": "code",
   "execution_count": 13,
   "metadata": {},
   "outputs": [],
   "source": [
    "from PIL import Image\n",
    "# glob: to get the list of array 配列の一覧を取得\n",
    "import os, glob\n",
    "import numpy as np\n",
    "# from sklearn import cross_validation\n",
    "from sklearn import model_selection\n",
    "\n",
    "classes = [\"monkey\", \"boar\", \"crow\"]\n",
    "num_classes = len(classes)\n",
    "image_size = 50\n",
    "\n",
    "#to read image 画像の読み込み\n",
    "X = [] # initialization\n",
    "Y = []\n",
    "for index, classlabel in enumerate(classes):\n",
    "    photos_dir = \"./\" + classlabel\n",
    "    files = glob.glob(photos_dir + \"/*.jpg\")\n",
    "    for i, file in enumerate(files):\n",
    "        if i >= 200: break\n",
    "        image = Image.open(file)\n",
    "        image = image.convert(\"RGB\")\n",
    "        image = image.resize((image_size, image_size))\n",
    "        data = np.asarray(image) # array 配列に変換\n",
    "        X.append(data) # add it to the last of the list\n",
    "        Y.append(index)\n",
    "\n",
    "X = np.array(X) # python list → data type TensorFlowが扱いやすいデータ型に揃える\n",
    "Y = np.array(Y)\n",
    "\n"
   ]
  },
  {
   "cell_type": "code",
   "execution_count": 14,
   "metadata": {},
   "outputs": [
    {
     "data": {
      "text/plain": [
       "array([[[ 32,  35,  24],\n",
       "        [ 22,  26,  12],\n",
       "        [ 22,  26,  12],\n",
       "        ...,\n",
       "        [ 25,  29,  15],\n",
       "        [ 22,  30,  15],\n",
       "        [ 24,  32,  17]],\n",
       "\n",
       "       [[ 25,  29,  15],\n",
       "        [ 21,  25,  11],\n",
       "        [ 23,  27,  13],\n",
       "        ...,\n",
       "        [ 27,  34,  18],\n",
       "        [ 24,  32,  17],\n",
       "        [ 27,  35,  20]],\n",
       "\n",
       "       [[ 21,  27,  13],\n",
       "        [ 21,  27,  13],\n",
       "        [ 22,  28,  14],\n",
       "        ...,\n",
       "        [ 28,  35,  19],\n",
       "        [ 27,  36,  19],\n",
       "        [ 29,  38,  21]],\n",
       "\n",
       "       ...,\n",
       "\n",
       "       [[ 63,  45,  21],\n",
       "        [ 69,  47,  23],\n",
       "        [ 70,  49,  18],\n",
       "        ...,\n",
       "        [ 34,  40,  26],\n",
       "        [ 40,  47,  31],\n",
       "        [ 38,  45,  29]],\n",
       "\n",
       "       [[ 29,  15,  15],\n",
       "        [ 47,  33,  20],\n",
       "        [ 60,  40,  33],\n",
       "        ...,\n",
       "        [ 37,  45,  30],\n",
       "        [ 38,  47,  30],\n",
       "        [ 37,  46,  29]],\n",
       "\n",
       "       [[191, 157, 130],\n",
       "        [201, 175, 152],\n",
       "        [ 77,  52,  48],\n",
       "        ...,\n",
       "        [ 36,  44,  29],\n",
       "        [ 37,  46,  29],\n",
       "        [ 36,  45,  28]]], dtype=uint8)"
      ]
     },
     "execution_count": 14,
     "metadata": {},
     "output_type": "execute_result"
    }
   ],
   "source": [
    "X[0]"
   ]
  },
  {
   "cell_type": "code",
   "execution_count": 15,
   "metadata": {},
   "outputs": [
    {
     "data": {
      "text/plain": [
       "0"
      ]
     },
     "execution_count": 15,
     "metadata": {},
     "output_type": "execute_result"
    }
   ],
   "source": [
    "Y[100]"
   ]
  },
  {
   "cell_type": "code",
   "execution_count": 16,
   "metadata": {},
   "outputs": [
    {
     "data": {
      "text/plain": [
       "1"
      ]
     },
     "execution_count": 16,
     "metadata": {},
     "output_type": "execute_result"
    }
   ],
   "source": [
    "Y[200]"
   ]
  },
  {
   "cell_type": "code",
   "execution_count": 17,
   "metadata": {},
   "outputs": [
    {
     "data": {
      "text/plain": [
       "2"
      ]
     },
     "execution_count": 17,
     "metadata": {},
     "output_type": "execute_result"
    }
   ],
   "source": [
    "Y[400]"
   ]
  },
  {
   "cell_type": "code",
   "execution_count": 18,
   "metadata": {},
   "outputs": [
    {
     "data": {
      "text/plain": [
       "2"
      ]
     },
     "execution_count": 18,
     "metadata": {},
     "output_type": "execute_result"
    }
   ],
   "source": [
    "Y[401]"
   ]
  },
  {
   "cell_type": "code",
   "execution_count": 19,
   "metadata": {},
   "outputs": [
    {
     "ename": "IndexError",
     "evalue": "index 600 is out of bounds for axis 0 with size 600",
     "traceback": [
      "\u001b[1;31m---------------------------------------------------------------------------\u001b[0m",
      "\u001b[1;31mIndexError\u001b[0m                                Traceback (most recent call last)",
      "\u001b[1;32m<ipython-input-19-11d052c8f307>\u001b[0m in \u001b[0;36m<module>\u001b[1;34m\u001b[0m\n\u001b[1;32m----> 1\u001b[1;33m \u001b[0mY\u001b[0m\u001b[1;33m[\u001b[0m\u001b[1;36m600\u001b[0m\u001b[1;33m]\u001b[0m\u001b[1;33m\u001b[0m\u001b[1;33m\u001b[0m\u001b[0m\n\u001b[0m",
      "\u001b[1;31mIndexError\u001b[0m: index 600 is out of bounds for axis 0 with size 600"
     ],
     "output_type": "error"
    }
   ],
   "source": [
    "Y[600]"
   ]
  },
  {
   "cell_type": "code",
   "execution_count": 20,
   "metadata": {},
   "outputs": [
    {
     "data": {
      "text/plain": [
       "600"
      ]
     },
     "execution_count": 20,
     "metadata": {},
     "output_type": "execute_result"
    }
   ],
   "source": [
    "len(X)"
   ]
  },
  {
   "cell_type": "code",
   "execution_count": null,
   "metadata": {},
   "outputs": [],
   "source": []
  }
 ],
 "metadata": {
  "kernelspec": {
   "display_name": "Python 3",
   "language": "python",
   "name": "python3"
  },
  "language_info": {
   "codemirror_mode": {
    "name": "ipython",
    "version": 3
   },
   "file_extension": ".py",
   "mimetype": "text/x-python",
   "name": "python",
   "nbconvert_exporter": "python",
   "pygments_lexer": "ipython3",
   "version": "3.7.3"
  }
 },
 "nbformat": 4,
 "nbformat_minor": 2
}
